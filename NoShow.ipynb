{
 "cells": [
  {
   "cell_type": "markdown",
   "metadata": {},
   "source": [
    "# Medical Appointment No-Shows"
   ]
  },
  {
   "cell_type": "markdown",
   "metadata": {},
   "source": [
    "Author: Jon Kittner"
   ]
  },
  {
   "cell_type": "markdown",
   "metadata": {},
   "source": [
    "## Purpose"
   ]
  },
  {
   "cell_type": "markdown",
   "metadata": {},
   "source": [
    "In this tutorial, we will use the data science cycle to analyze medical appointment data from Kaggle and derive insights into what factors go into an appointment \"no-show\". First, we will read in the data from a csv and do a small amount of modification to the resulting table. Next, we will do some visualization of the data in an exploratory data analysis to see overall trends and develop some hypotheses (this will be the bulk of the tutorial, as there are many different features that are available to visualize for each appointment). Finally, we will do some brief ML to see if we can predict which appointments will be no-shows. Hopefully, this tutorial will help you to understand the significance of medical appointment attendance, what factors may be responsible, and possible policies or practices that could be implemented to improve attendance."
   ]
  },
  {
   "cell_type": "markdown",
   "metadata": {},
   "source": [
    "## Background"
   ]
  },
  {
   "cell_type": "markdown",
   "metadata": {},
   "source": [
    "This may be a data science tutorial, but it's always important to know the background behind the data you are analyzing, and how your conclusions could be used to affect real problems through new programs or policy. Therefore, I'll share a bit about medical appointment and no-shows so you too can get hyped about this important topic.\n",
    "\n",
    "No-shows, in outpatient clinics, are defined as patients who fail to attend their scheduled clinic appointments without notice or rescheduling. It is a significant target for improving quality of care in outpatient settings as well as for improving overall long-term health of patients. No-shows lead to negative impacts on patient care, productivity, and learning opportunities, as well as longer waiting times for other patients. They also results in a waste of the clinic resources, and physician and other healthcare practitioners' time.\n",
    "\n",
    "For more background research in this area, I've found a few journal articles that review relevant factors that go into appointment attendance and proposals for policy to increase attendance:\n",
    "\n",
    "[Why We Don’t Come: Patient Perceptions on No-Shows](https://www.ncbi.nlm.nih.gov/pmc/articles/PMC1466756/)\n",
    "\n",
    "[Reducing Appointment No-Shows: Going from Theory to Practice](https://www.ncbi.nlm.nih.gov/pmc/articles/PMC3962267/)\n",
    "\n",
    "I'll summarize a few relevant findings here:\n",
    "- Financial reasons play a part in appointment attendance - when patients find out the cost for care, they may choose not to show up\n",
    "- Long hospital and clinic wait times discourage attendance - a 2014 [survey](https://www.merritthawkins.com/uploadedFiles/MerrittHawkings/Surveys/mha2014waitsurvPDF.pdf) found the average wait time to see a physician in 15 metropolitan areas across the country to be 18.5 days.\n",
    "- patients who miss appointments tend to be younger, and of lower socioeconomic status, often with a history of failed appointments, government provided health benefits, and psychosocial problems\n",
    "- Patient satisfaction, including perceived disrespect of patient beliefs and time, has been found to be an important self-reported reason for appointment no-shows\n",
    "\n",
    "This topic is especially of interest to me, a pre-med student and (hopefully) future doctor. I'm currently working as a scribe in an ER (which involves writing lots of clinic referrals), and it's easy to see the frustration of the providers I work with when they treat patients with a history of failed medical appointments. No-shows are especially important to emergency physicians, as only emergency care is provided in the ER, with follow-up delegated to future clinic visits. Often times, patients with long lasting or chronic health problems will skip follow-up clinic visits for various reasons, including \"I didn't think it was bad enough to go to the appointment,\" and wind up back in the ER once their condition worsens again. Not only are these no-shows bad for the patient health-wise and the clinic providers time-wise, but it puts unnecessary strain on the already scarce ER resources. If we can understand more reason why patients are missing appointments through the magic of data science, we can improve all these problems through targeted policy and practice reform.\n",
    "\n",
    "P.S. Please attend your medical appointments!!!"
   ]
  },
  {
   "cell_type": "markdown",
   "metadata": {},
   "source": [
    "## Setup (to the CS stuff!)"
   ]
  },
  {
   "cell_type": "markdown",
   "metadata": {},
   "source": [
    "This tutorial will be in python, so you will need python 3.X, and these libraries:\n",
    "- pandas\n",
    "- numpy\n",
    "- matplotlib\n",
    "- skikit-learn\n",
    "- datetime\n",
    "- graphviz\n",
    "\n",
    "I did this through Docker, a popular container technology, with the Jupyter Notebook Data Science Stack. With this method, all the libraries will be automatically installed (except graphviz, which you do a pip install as shown). If you also want to use Docker, you can use [these](https://github.com/umddb/cmsc320-fall2017/tree/master/project0) instructions to set up a Jupyter/iPython notebook on Docker. The specifics of Docker, and virtualization/containers in general, are difficult for me to explain in a clear concise manner, so if you want to go above and beyond to learn more, here's a good intro blog post: [Container/VM/Docker Intro](https://medium.freecodecamp.org/a-beginner-friendly-introduction-to-containers-vms-and-docker-79a9e3e119b)\n",
    "\n",
    "You can also install the [Anaconda](https://docs.anaconda.com/anaconda/install/) python distribution, then use Anaconda's package manager to install the above libraries.\n",
    "\n",
    "You are also going to need the No-Show dataset from Kaggle [here](https://www.kaggle.com/joniarroba/noshowappointments)\n",
    "\n",
    "Once you've set up your environment and downloaded the dataset, open a new Jupyter Notebook, install graphviz, and import the following packages:"
   ]
  },
  {
   "cell_type": "code",
   "execution_count": 1,
   "metadata": {},
   "outputs": [
    {
     "name": "stdout",
     "output_type": "stream",
     "text": [
      "Collecting graphviz\n",
      "  Downloading graphviz-0.8.1-py2.py3-none-any.whl\n",
      "Installing collected packages: graphviz\n",
      "Successfully installed graphviz-0.8.1\n"
     ]
    }
   ],
   "source": [
    "!pip install graphviz"
   ]
  },
  {
   "cell_type": "code",
   "execution_count": 2,
   "metadata": {
    "collapsed": true
   },
   "outputs": [],
   "source": [
    "import pandas as pd\n",
    "import numpy as np\n",
    "import matplotlib.pyplot as plt\n",
    "import sklearn.metrics as metrics\n",
    "from sklearn import tree\n",
    "from sklearn.tree import DecisionTreeClassifier\n",
    "from sklearn.model_selection import GridSearchCV\n",
    "from sklearn.model_selection import train_test_split\n",
    "from datetime import datetime\n",
    "import graphviz"
   ]
  },
  {
   "cell_type": "markdown",
   "metadata": {},
   "source": [
    "## The Data (Collection and Processing)"
   ]
  },
  {
   "cell_type": "markdown",
   "metadata": {},
   "source": [
    "Data collection and processing are the first steps of the data science cycle. Before you can do useful analysis, you must have the data in a useable form. Usually, this might include such steps as scraping data from the web, merging mutliple files, deleting or filling in erroneous or missing data, or changing the data to be in a more useable form (re-organizing it to make analysis smoother). Luckily, the data for this tutorial is all in one place in a nice clean csv file. Furthermore, the data itself is in a pretty useable form already, so the amount of work needed on my part for these particular steps will be relatively low. I'll describe the features of this dataset below.\n",
    "\n",
    "The data we will be using is a csv file from [Kaggle](https://www.kaggle.com/joniarroba/noshowappointments) (which is an excellent resource for finding nicely formatted interesting datasets which are categorized by topic) containing information on > 100k medical appointments of the public healthcare system for the capital city of Espirito Santo State in Brazil, Vitoria, and the characteristics of each. While it might have been nice to get a dataset from somewhere in the U.S. due to cultural differences in the healthcare system, it's likely that many trends will be similar in both locations (and as the famous data scientist Mick Jagger once said, ♫ <i>you can't always get what you waaant</i> ♫). Plus, the huge sample size will be good for statistical significance and for training the ML later on."
   ]
  },
  {
   "cell_type": "code",
   "execution_count": 3,
   "metadata": {
    "scrolled": true
   },
   "outputs": [
    {
     "data": {
      "text/html": [
       "<div>\n",
       "<table border=\"1\" class=\"dataframe\">\n",
       "  <thead>\n",
       "    <tr style=\"text-align: right;\">\n",
       "      <th></th>\n",
       "      <th>PatientId</th>\n",
       "      <th>AppointmentID</th>\n",
       "      <th>Gender</th>\n",
       "      <th>ScheduledDay</th>\n",
       "      <th>AppointmentDay</th>\n",
       "      <th>Age</th>\n",
       "      <th>Neighbourhood</th>\n",
       "      <th>Scholarship</th>\n",
       "      <th>Hipertension</th>\n",
       "      <th>Diabetes</th>\n",
       "      <th>Alcoholism</th>\n",
       "      <th>Handcap</th>\n",
       "      <th>SMS_received</th>\n",
       "      <th>No-show</th>\n",
       "    </tr>\n",
       "  </thead>\n",
       "  <tbody>\n",
       "    <tr>\n",
       "      <th>0</th>\n",
       "      <td>2.987250e+13</td>\n",
       "      <td>5642903</td>\n",
       "      <td>F</td>\n",
       "      <td>2016-04-29T18:38:08Z</td>\n",
       "      <td>2016-04-29T00:00:00Z</td>\n",
       "      <td>62</td>\n",
       "      <td>JARDIM DA PENHA</td>\n",
       "      <td>0</td>\n",
       "      <td>1</td>\n",
       "      <td>0</td>\n",
       "      <td>0</td>\n",
       "      <td>0</td>\n",
       "      <td>0</td>\n",
       "      <td>No</td>\n",
       "    </tr>\n",
       "    <tr>\n",
       "      <th>1</th>\n",
       "      <td>5.589978e+14</td>\n",
       "      <td>5642503</td>\n",
       "      <td>M</td>\n",
       "      <td>2016-04-29T16:08:27Z</td>\n",
       "      <td>2016-04-29T00:00:00Z</td>\n",
       "      <td>56</td>\n",
       "      <td>JARDIM DA PENHA</td>\n",
       "      <td>0</td>\n",
       "      <td>0</td>\n",
       "      <td>0</td>\n",
       "      <td>0</td>\n",
       "      <td>0</td>\n",
       "      <td>0</td>\n",
       "      <td>No</td>\n",
       "    </tr>\n",
       "    <tr>\n",
       "      <th>2</th>\n",
       "      <td>4.262962e+12</td>\n",
       "      <td>5642549</td>\n",
       "      <td>F</td>\n",
       "      <td>2016-04-29T16:19:04Z</td>\n",
       "      <td>2016-04-29T00:00:00Z</td>\n",
       "      <td>62</td>\n",
       "      <td>MATA DA PRAIA</td>\n",
       "      <td>0</td>\n",
       "      <td>0</td>\n",
       "      <td>0</td>\n",
       "      <td>0</td>\n",
       "      <td>0</td>\n",
       "      <td>0</td>\n",
       "      <td>No</td>\n",
       "    </tr>\n",
       "    <tr>\n",
       "      <th>3</th>\n",
       "      <td>8.679512e+11</td>\n",
       "      <td>5642828</td>\n",
       "      <td>F</td>\n",
       "      <td>2016-04-29T17:29:31Z</td>\n",
       "      <td>2016-04-29T00:00:00Z</td>\n",
       "      <td>8</td>\n",
       "      <td>PONTAL DE CAMBURI</td>\n",
       "      <td>0</td>\n",
       "      <td>0</td>\n",
       "      <td>0</td>\n",
       "      <td>0</td>\n",
       "      <td>0</td>\n",
       "      <td>0</td>\n",
       "      <td>No</td>\n",
       "    </tr>\n",
       "    <tr>\n",
       "      <th>4</th>\n",
       "      <td>8.841186e+12</td>\n",
       "      <td>5642494</td>\n",
       "      <td>F</td>\n",
       "      <td>2016-04-29T16:07:23Z</td>\n",
       "      <td>2016-04-29T00:00:00Z</td>\n",
       "      <td>56</td>\n",
       "      <td>JARDIM DA PENHA</td>\n",
       "      <td>0</td>\n",
       "      <td>1</td>\n",
       "      <td>1</td>\n",
       "      <td>0</td>\n",
       "      <td>0</td>\n",
       "      <td>0</td>\n",
       "      <td>No</td>\n",
       "    </tr>\n",
       "  </tbody>\n",
       "</table>\n",
       "</div>"
      ],
      "text/plain": [
       "      PatientId  AppointmentID Gender          ScheduledDay  \\\n",
       "0  2.987250e+13        5642903      F  2016-04-29T18:38:08Z   \n",
       "1  5.589978e+14        5642503      M  2016-04-29T16:08:27Z   \n",
       "2  4.262962e+12        5642549      F  2016-04-29T16:19:04Z   \n",
       "3  8.679512e+11        5642828      F  2016-04-29T17:29:31Z   \n",
       "4  8.841186e+12        5642494      F  2016-04-29T16:07:23Z   \n",
       "\n",
       "         AppointmentDay  Age      Neighbourhood  Scholarship  Hipertension  \\\n",
       "0  2016-04-29T00:00:00Z   62    JARDIM DA PENHA            0             1   \n",
       "1  2016-04-29T00:00:00Z   56    JARDIM DA PENHA            0             0   \n",
       "2  2016-04-29T00:00:00Z   62      MATA DA PRAIA            0             0   \n",
       "3  2016-04-29T00:00:00Z    8  PONTAL DE CAMBURI            0             0   \n",
       "4  2016-04-29T00:00:00Z   56    JARDIM DA PENHA            0             1   \n",
       "\n",
       "   Diabetes  Alcoholism  Handcap  SMS_received No-show  \n",
       "0         0           0        0             0      No  \n",
       "1         0           0        0             0      No  \n",
       "2         0           0        0             0      No  \n",
       "3         0           0        0             0      No  \n",
       "4         1           0        0             0      No  "
      ]
     },
     "execution_count": 3,
     "metadata": {},
     "output_type": "execute_result"
    }
   ],
   "source": [
    "#load our data into pandas dataframe\n",
    "appt_df = pd.read_csv(\"KaggleV2-May-2016.csv\")\n",
    "#print first 5 rows of our data in a human-readable form.\n",
    "appt_df.head()"
   ]
  },
  {
   "cell_type": "markdown",
   "metadata": {},
   "source": [
    "So this is what we've got. As you can see, getting data from a csv is super easy, and it fits right into a pandas dataframe. If you are a python newbie like myself, you're probably gunna want to read up a lot on dataframes, as they are widely used in data science for manipulating data during an analysis. You can think of them as a table-like structure with a ton of useful built in functions for data science goodness. Here are some useful links for pandas basics (including dataframes):\n",
    "\n",
    "- [Intro to pandas data structures](http://www.gregreda.com/2013/10/26/intro-to-pandas-data-structures/)\n",
    "- [10 Minutes to pandas](http://pandas.pydata.org/pandas-docs/stable/10min.html) (official pandas documentation)\n",
    "\n",
    "The second link also has more complex guides on pandas functionality for more advanced users.\n",
    "\n",
    "The data is pretty self-explanatory. It's worth noting that while the day the appointment was scheduled on includes a time, the appointment date itself unfortunetely does not. Also, the \"scholarship\" column is a binary value that displays whether or not the indevidual recieves financial aid from the government (more information [here](https://en.wikipedia.org/wiki/Bolsa_Fam%C3%ADlia)). Hypertension, diabetes, alchoholism, and SMS recieved are all binary columns as well. The handicap column is not, however, with values 0-4 depending on how many handicaps the person has (ex. visual, mobility, ect.). \n",
    "\n",
    "While this data looks good, it's always good to check for missing NaN values to see if you need to delete or fill in some row data."
   ]
  },
  {
   "cell_type": "code",
   "execution_count": 4,
   "metadata": {},
   "outputs": [
    {
     "data": {
      "text/plain": [
       "PatientId         0\n",
       "AppointmentID     0\n",
       "Gender            0\n",
       "ScheduledDay      0\n",
       "AppointmentDay    0\n",
       "Age               0\n",
       "Neighbourhood     0\n",
       "Scholarship       0\n",
       "Hipertension      0\n",
       "Diabetes          0\n",
       "Alcoholism        0\n",
       "Handcap           0\n",
       "SMS_received      0\n",
       "No-show           0\n",
       "dtype: int64"
      ]
     },
     "execution_count": 4,
     "metadata": {},
     "output_type": "execute_result"
    }
   ],
   "source": [
    "appt_df.isnull().sum()"
   ]
  },
  {
   "cell_type": "markdown",
   "metadata": {},
   "source": [
    "Nope, we are good. However, I noticed when reading through some comments on the dataset that there are some erroneous negative age values for some rows. I'll just get rid of those, as well as outliers that are over 100 years old."
   ]
  },
  {
   "cell_type": "code",
   "execution_count": 5,
   "metadata": {
    "collapsed": true
   },
   "outputs": [],
   "source": [
    "appt_df = appt_df[(appt_df.Age >= 0) & (appt_df.Age <= 100)]"
   ]
  },
  {
   "cell_type": "markdown",
   "metadata": {},
   "source": [
    "I also would like to have the no-show label be binary, to make it simpler to calculate percentages and for the ML later on."
   ]
  },
  {
   "cell_type": "code",
   "execution_count": 6,
   "metadata": {
    "collapsed": true
   },
   "outputs": [],
   "source": [
    "def NSConvert(str):\n",
    "    return 1 if str == 'Yes' else 0\n",
    "appt_df['No_show'] = appt_df.apply(lambda row: NSConvert(row['No-show']), axis = 1)\n",
    "appt_df.drop('No-show', axis=1, inplace=True)"
   ]
  },
  {
   "cell_type": "markdown",
   "metadata": {},
   "source": [
    "I also want to make a new column for # days in between the appointment scheduling and the appointment date. This is because as it currently stands, if the appointment is a same day appointment, taking the simple difference in the dateTime fields will yield a negative value. We must first convert the string Objects in the date columns to dateTime Object, which contain more eaily accessible information. See [here](https://docs.python.org/2/library/datetime.html) for more info on python dateTime."
   ]
  },
  {
   "cell_type": "code",
   "execution_count": 7,
   "metadata": {
    "collapsed": true
   },
   "outputs": [],
   "source": [
    "appt_df['sDay'] = appt_df.ScheduledDay.apply(np.datetime64)\n",
    "appt_df['aDay'] = appt_df.AppointmentDay.apply(np.datetime64)\n",
    "appt_df['wait_days'] = (appt_df.aDay.dt.date - appt_df.sDay.dt.date).dt.days\n",
    "\n",
    "appt_df.drop('ScheduledDay', axis=1, inplace=True)\n",
    "appt_df.drop('AppointmentDay', axis=1, inplace=True)"
   ]
  },
  {
   "cell_type": "code",
   "execution_count": 8,
   "metadata": {
    "scrolled": true
   },
   "outputs": [
    {
     "name": "stdout",
     "output_type": "stream",
     "text": [
      "Minimum wait days:  -6\n",
      "Maximum wait days:  179\n",
      "Number of appointments with (wait days < 0):  5\n"
     ]
    }
   ],
   "source": [
    "print(\"Minimum wait days: \", appt_df['wait_days'].min())\n",
    "print(\"Maximum wait days: \", appt_df['wait_days'].max())\n",
    "print(\"Number of appointments with (wait days < 0): \", len(appt_df[appt_df.wait_days < 0]))"
   ]
  },
  {
   "cell_type": "markdown",
   "metadata": {},
   "source": [
    "There are only 5 appointments with less than 0 days between appointment scheduling and the actual appointment, so I'll just drop those. While I'm at it, I'll drop apptID, as it's useless."
   ]
  },
  {
   "cell_type": "code",
   "execution_count": 9,
   "metadata": {
    "collapsed": true
   },
   "outputs": [],
   "source": [
    "appt_df = appt_df[appt_df.wait_days >= 0]\n",
    "appt_df.drop('AppointmentID', axis=1, inplace=True)"
   ]
  },
  {
   "cell_type": "code",
   "execution_count": 10,
   "metadata": {
    "scrolled": false
   },
   "outputs": [
    {
     "data": {
      "text/html": [
       "<div>\n",
       "<table border=\"1\" class=\"dataframe\">\n",
       "  <thead>\n",
       "    <tr style=\"text-align: right;\">\n",
       "      <th></th>\n",
       "      <th>PatientId</th>\n",
       "      <th>Gender</th>\n",
       "      <th>Age</th>\n",
       "      <th>Neighbourhood</th>\n",
       "      <th>Scholarship</th>\n",
       "      <th>Hipertension</th>\n",
       "      <th>Diabetes</th>\n",
       "      <th>Alcoholism</th>\n",
       "      <th>Handcap</th>\n",
       "      <th>SMS_received</th>\n",
       "      <th>No_show</th>\n",
       "      <th>sDay</th>\n",
       "      <th>aDay</th>\n",
       "      <th>wait_days</th>\n",
       "    </tr>\n",
       "  </thead>\n",
       "  <tbody>\n",
       "    <tr>\n",
       "      <th>0</th>\n",
       "      <td>2.987250e+13</td>\n",
       "      <td>F</td>\n",
       "      <td>62</td>\n",
       "      <td>JARDIM DA PENHA</td>\n",
       "      <td>0</td>\n",
       "      <td>1</td>\n",
       "      <td>0</td>\n",
       "      <td>0</td>\n",
       "      <td>0</td>\n",
       "      <td>0</td>\n",
       "      <td>0</td>\n",
       "      <td>2016-04-29 18:38:08</td>\n",
       "      <td>2016-04-29</td>\n",
       "      <td>0</td>\n",
       "    </tr>\n",
       "    <tr>\n",
       "      <th>1</th>\n",
       "      <td>5.589978e+14</td>\n",
       "      <td>M</td>\n",
       "      <td>56</td>\n",
       "      <td>JARDIM DA PENHA</td>\n",
       "      <td>0</td>\n",
       "      <td>0</td>\n",
       "      <td>0</td>\n",
       "      <td>0</td>\n",
       "      <td>0</td>\n",
       "      <td>0</td>\n",
       "      <td>0</td>\n",
       "      <td>2016-04-29 16:08:27</td>\n",
       "      <td>2016-04-29</td>\n",
       "      <td>0</td>\n",
       "    </tr>\n",
       "    <tr>\n",
       "      <th>2</th>\n",
       "      <td>4.262962e+12</td>\n",
       "      <td>F</td>\n",
       "      <td>62</td>\n",
       "      <td>MATA DA PRAIA</td>\n",
       "      <td>0</td>\n",
       "      <td>0</td>\n",
       "      <td>0</td>\n",
       "      <td>0</td>\n",
       "      <td>0</td>\n",
       "      <td>0</td>\n",
       "      <td>0</td>\n",
       "      <td>2016-04-29 16:19:04</td>\n",
       "      <td>2016-04-29</td>\n",
       "      <td>0</td>\n",
       "    </tr>\n",
       "    <tr>\n",
       "      <th>3</th>\n",
       "      <td>8.679512e+11</td>\n",
       "      <td>F</td>\n",
       "      <td>8</td>\n",
       "      <td>PONTAL DE CAMBURI</td>\n",
       "      <td>0</td>\n",
       "      <td>0</td>\n",
       "      <td>0</td>\n",
       "      <td>0</td>\n",
       "      <td>0</td>\n",
       "      <td>0</td>\n",
       "      <td>0</td>\n",
       "      <td>2016-04-29 17:29:31</td>\n",
       "      <td>2016-04-29</td>\n",
       "      <td>0</td>\n",
       "    </tr>\n",
       "    <tr>\n",
       "      <th>4</th>\n",
       "      <td>8.841186e+12</td>\n",
       "      <td>F</td>\n",
       "      <td>56</td>\n",
       "      <td>JARDIM DA PENHA</td>\n",
       "      <td>0</td>\n",
       "      <td>1</td>\n",
       "      <td>1</td>\n",
       "      <td>0</td>\n",
       "      <td>0</td>\n",
       "      <td>0</td>\n",
       "      <td>0</td>\n",
       "      <td>2016-04-29 16:07:23</td>\n",
       "      <td>2016-04-29</td>\n",
       "      <td>0</td>\n",
       "    </tr>\n",
       "  </tbody>\n",
       "</table>\n",
       "</div>"
      ],
      "text/plain": [
       "      PatientId Gender  Age      Neighbourhood  Scholarship  Hipertension  \\\n",
       "0  2.987250e+13      F   62    JARDIM DA PENHA            0             1   \n",
       "1  5.589978e+14      M   56    JARDIM DA PENHA            0             0   \n",
       "2  4.262962e+12      F   62      MATA DA PRAIA            0             0   \n",
       "3  8.679512e+11      F    8  PONTAL DE CAMBURI            0             0   \n",
       "4  8.841186e+12      F   56    JARDIM DA PENHA            0             1   \n",
       "\n",
       "   Diabetes  Alcoholism  Handcap  SMS_received  No_show                sDay  \\\n",
       "0         0           0        0             0        0 2016-04-29 18:38:08   \n",
       "1         0           0        0             0        0 2016-04-29 16:08:27   \n",
       "2         0           0        0             0        0 2016-04-29 16:19:04   \n",
       "3         0           0        0             0        0 2016-04-29 17:29:31   \n",
       "4         1           0        0             0        0 2016-04-29 16:07:23   \n",
       "\n",
       "        aDay  wait_days  \n",
       "0 2016-04-29          0  \n",
       "1 2016-04-29          0  \n",
       "2 2016-04-29          0  \n",
       "3 2016-04-29          0  \n",
       "4 2016-04-29          0  "
      ]
     },
     "execution_count": 10,
     "metadata": {},
     "output_type": "execute_result"
    }
   ],
   "source": [
    "appt_df.head()"
   ]
  },
  {
   "cell_type": "markdown",
   "metadata": {},
   "source": [
    "Finally, I want to make new columns with the day of the week and month for each appointment day. Even though the dateTime object stores this information, having it in it's own column makes certain operations, such as groupBy (shown later), much simpler. I'll be using datetime's [strftime()](https://docs.python.org/3/library/datetime.html#strftime-strptime-behavior) function, which can extract tons of useful information about the object as a string. Of note, I'll be representing the weekday as a decimal for ease of sorting the weekdays in chronological rather than lexigraphical order later on (0 is Sun, 6 is Sat). Since I've got all the info I needed out of the original day columns, I can now drop them."
   ]
  },
  {
   "cell_type": "code",
   "execution_count": 11,
   "metadata": {
    "collapsed": true
   },
   "outputs": [],
   "source": [
    "def dayOfWeek(dT):\n",
    "    return dT.strftime(\"%w\")\n",
    "appt_df['weekday'] = appt_df.apply(lambda row: dayOfWeek(row['aDay']), axis = 1)"
   ]
  },
  {
   "cell_type": "code",
   "execution_count": 12,
   "metadata": {
    "collapsed": true
   },
   "outputs": [],
   "source": [
    "def month(dT):\n",
    "    return dT.strftime(\"%b\")\n",
    "appt_df['month'] = appt_df.apply(lambda row: month(row['aDay']), axis = 1)"
   ]
  },
  {
   "cell_type": "code",
   "execution_count": 13,
   "metadata": {
    "collapsed": true
   },
   "outputs": [],
   "source": [
    "appt_df.drop('sDay', axis=1, inplace=True)\n",
    "appt_df.drop('aDay', axis=1, inplace=True)"
   ]
  },
  {
   "cell_type": "code",
   "execution_count": 14,
   "metadata": {},
   "outputs": [
    {
     "data": {
      "text/html": [
       "<div>\n",
       "<table border=\"1\" class=\"dataframe\">\n",
       "  <thead>\n",
       "    <tr style=\"text-align: right;\">\n",
       "      <th></th>\n",
       "      <th>PatientId</th>\n",
       "      <th>Gender</th>\n",
       "      <th>Age</th>\n",
       "      <th>Neighbourhood</th>\n",
       "      <th>Scholarship</th>\n",
       "      <th>Hipertension</th>\n",
       "      <th>Diabetes</th>\n",
       "      <th>Alcoholism</th>\n",
       "      <th>Handcap</th>\n",
       "      <th>SMS_received</th>\n",
       "      <th>No_show</th>\n",
       "      <th>wait_days</th>\n",
       "      <th>weekday</th>\n",
       "      <th>month</th>\n",
       "    </tr>\n",
       "  </thead>\n",
       "  <tbody>\n",
       "    <tr>\n",
       "      <th>0</th>\n",
       "      <td>2.987250e+13</td>\n",
       "      <td>F</td>\n",
       "      <td>62</td>\n",
       "      <td>JARDIM DA PENHA</td>\n",
       "      <td>0</td>\n",
       "      <td>1</td>\n",
       "      <td>0</td>\n",
       "      <td>0</td>\n",
       "      <td>0</td>\n",
       "      <td>0</td>\n",
       "      <td>0</td>\n",
       "      <td>0</td>\n",
       "      <td>5</td>\n",
       "      <td>Apr</td>\n",
       "    </tr>\n",
       "    <tr>\n",
       "      <th>1</th>\n",
       "      <td>5.589978e+14</td>\n",
       "      <td>M</td>\n",
       "      <td>56</td>\n",
       "      <td>JARDIM DA PENHA</td>\n",
       "      <td>0</td>\n",
       "      <td>0</td>\n",
       "      <td>0</td>\n",
       "      <td>0</td>\n",
       "      <td>0</td>\n",
       "      <td>0</td>\n",
       "      <td>0</td>\n",
       "      <td>0</td>\n",
       "      <td>5</td>\n",
       "      <td>Apr</td>\n",
       "    </tr>\n",
       "    <tr>\n",
       "      <th>2</th>\n",
       "      <td>4.262962e+12</td>\n",
       "      <td>F</td>\n",
       "      <td>62</td>\n",
       "      <td>MATA DA PRAIA</td>\n",
       "      <td>0</td>\n",
       "      <td>0</td>\n",
       "      <td>0</td>\n",
       "      <td>0</td>\n",
       "      <td>0</td>\n",
       "      <td>0</td>\n",
       "      <td>0</td>\n",
       "      <td>0</td>\n",
       "      <td>5</td>\n",
       "      <td>Apr</td>\n",
       "    </tr>\n",
       "    <tr>\n",
       "      <th>3</th>\n",
       "      <td>8.679512e+11</td>\n",
       "      <td>F</td>\n",
       "      <td>8</td>\n",
       "      <td>PONTAL DE CAMBURI</td>\n",
       "      <td>0</td>\n",
       "      <td>0</td>\n",
       "      <td>0</td>\n",
       "      <td>0</td>\n",
       "      <td>0</td>\n",
       "      <td>0</td>\n",
       "      <td>0</td>\n",
       "      <td>0</td>\n",
       "      <td>5</td>\n",
       "      <td>Apr</td>\n",
       "    </tr>\n",
       "    <tr>\n",
       "      <th>4</th>\n",
       "      <td>8.841186e+12</td>\n",
       "      <td>F</td>\n",
       "      <td>56</td>\n",
       "      <td>JARDIM DA PENHA</td>\n",
       "      <td>0</td>\n",
       "      <td>1</td>\n",
       "      <td>1</td>\n",
       "      <td>0</td>\n",
       "      <td>0</td>\n",
       "      <td>0</td>\n",
       "      <td>0</td>\n",
       "      <td>0</td>\n",
       "      <td>5</td>\n",
       "      <td>Apr</td>\n",
       "    </tr>\n",
       "  </tbody>\n",
       "</table>\n",
       "</div>"
      ],
      "text/plain": [
       "      PatientId Gender  Age      Neighbourhood  Scholarship  Hipertension  \\\n",
       "0  2.987250e+13      F   62    JARDIM DA PENHA            0             1   \n",
       "1  5.589978e+14      M   56    JARDIM DA PENHA            0             0   \n",
       "2  4.262962e+12      F   62      MATA DA PRAIA            0             0   \n",
       "3  8.679512e+11      F    8  PONTAL DE CAMBURI            0             0   \n",
       "4  8.841186e+12      F   56    JARDIM DA PENHA            0             1   \n",
       "\n",
       "   Diabetes  Alcoholism  Handcap  SMS_received  No_show  wait_days weekday  \\\n",
       "0         0           0        0             0        0          0       5   \n",
       "1         0           0        0             0        0          0       5   \n",
       "2         0           0        0             0        0          0       5   \n",
       "3         0           0        0             0        0          0       5   \n",
       "4         1           0        0             0        0          0       5   \n",
       "\n",
       "  month  \n",
       "0   Apr  \n",
       "1   Apr  \n",
       "2   Apr  \n",
       "3   Apr  \n",
       "4   Apr  "
      ]
     },
     "execution_count": 14,
     "metadata": {},
     "output_type": "execute_result"
    }
   ],
   "source": [
    "appt_df.head()"
   ]
  },
  {
   "cell_type": "markdown",
   "metadata": {},
   "source": [
    "And voila, we are ready to analyze the data!"
   ]
  },
  {
   "cell_type": "markdown",
   "metadata": {},
   "source": [
    "## Exploratory Data Analysis"
   ]
  },
  {
   "cell_type": "markdown",
   "metadata": {},
   "source": [
    "For the exploratory data analysis, or EDA, the purpose is to gain insight into trends in the data in order to develop testable hypotheses. Often times, the best way to do this is to visualize the data with graphs and such. We will be using matplotlib, a standard python plotting library. [Here](https://matplotlib.org/tutorials/introductory/usage.html#sphx-glr-tutorials-introductory-usage-py) is an intro tutorial, and [here](https://matplotlib.org/tutorials/index.html#introductory) is a page containing tutorials for more advanced users. Altough there is a lot info on appointments, almost all the analysis will focus on the no-show label, as that is the purpose of this tutorial. However, you could also use this data to do an analysis on patient demographics and medical information (diabetes, hypertension, handicap) in this city, distribution of appointment information in different neighborhoods of the city, or even distribution of government aid to different neighborhoods in the city.\n",
    "\n",
    "First, we might as well see the overall number of shows and no shows. I'll use pyplot's [bar charts](https://pythonspot.com/matplotlib-bar-chart/) to visualize."
   ]
  },
  {
   "cell_type": "code",
   "execution_count": 15,
   "metadata": {
    "scrolled": false
   },
   "outputs": [
    {
     "data": {
      "image/png": "[encoded data removed]",
      "text/plain": [
       "<matplotlib.figure.Figure at 0x7f7286e8be10>"
      ]
     },
     "metadata": {},
     "output_type": "display_data"
    },
    {
     "name": "stdout",
     "output_type": "stream",
     "text": [
      "Percentage of No-shows:  0.201883924209\n"
     ]
    }
   ],
   "source": [
    "values = []\n",
    "values.append(appt_df['No_show'].value_counts().get(0)) #shows\n",
    "values.append(appt_df['No_show'].value_counts().get(1)) #no-shows\n",
    "              \n",
    "xVals = ('No', 'Yes')\n",
    "x_pos = np.arange(len(xVals))\n",
    "\n",
    "fig = plt.figure(figsize=(7, 5))\n",
    "plt.title('Number of shows and no-shows') \n",
    "plt.bar(x_pos, values, align='center', alpha=0.5)\n",
    "plt.xticks(x_pos, xVals)\n",
    "plt.xlabel('No-show?')\n",
    "plt.ylabel('Number of appointments')\n",
    "\n",
    "plt.show()\n",
    "print(\"Percentage of No-shows: \", values[1]/appt_df.shape[0])"
   ]
  },
  {
   "cell_type": "markdown",
   "metadata": {},
   "source": [
    "As we could have predicted, there are quite a lot of no-shows, over 20%. Now, we can look at all the other factors in our table and how they may or may not affect no-show rates. I'll be graphing \n",
    "with [subplots](https://matplotlib.org/api/_as_gen/matplotlib.pyplot.subplot.html) to show overall distributions and no-show relationships together. Be cafeful, as for some inexplicable reason the method names for identical graph features are different between subplot Axes and pyplots (so...much...frustration...).\n",
    "\n",
    "I'll also be using the super-useful python dataframe method groupby. It allows easy grouping of dataframes into different sections based on the value in a certain column. For example, to find the proportion of males/females that were no shows, all I have to do is group by gender, then take the average of the no-show column for each of the groups. The official documentation doesn't do this method justice, so [here](https://chrisalbon.com/python/pandas_apply_operations_to_groups.html) is a great tutorial on using groupby to extract info from a dataframe."
   ]
  },
  {
   "cell_type": "markdown",
   "metadata": {},
   "source": [
    "### Gender"
   ]
  },
  {
   "cell_type": "code",
   "execution_count": 16,
   "metadata": {},
   "outputs": [
    {
     "data": {
      "image/png": "[encoded data removed]",
      "text/plain": [
       "<matplotlib.figure.Figure at 0x7f72879c0c50>"
      ]
     },
     "metadata": {},
     "output_type": "display_data"
    }
   ],
   "source": [
    "vals1 = []\n",
    "vals1.append(appt_df['Gender'].value_counts().get('F')) # num females\n",
    "vals1.append(appt_df['Gender'].value_counts().get('M')) # num males\n",
    "\n",
    "vals2 = []\n",
    "vals2.append(appt_df.groupby(['Gender'])['No_show'].mean().get('F'))\n",
    "vals2.append(appt_df.groupby(['Gender'])['No_show'].mean().get('M'))\n",
    "\n",
    "xVals = ['F', 'M']\n",
    "x_pos = np.arange(len(xVals))\n",
    "\n",
    "fig = plt.figure(figsize=(15, 10))\n",
    "\n",
    "sub1 = fig.add_subplot(221)\n",
    "sub1.set_title('Number of appointments of each gender') \n",
    "sub1.bar(x_pos, vals1, align='center', alpha=0.5)\n",
    "sub1.set_xticks(x_pos)\n",
    "sub1.set_xticklabels(xVals)\n",
    "sub1.set_xlabel('Gender')\n",
    "sub1.set_ylabel('Number of appointments')\n",
    "\n",
    "sub2 = fig.add_subplot(222)\n",
    "sub2.set_title('Proportion of no-shows for each gender')\n",
    "sub2.bar(x_pos, vals2, align='center', alpha=0.5)\n",
    "sub2.set_xticks(x_pos)\n",
    "sub2.set_xticklabels(xVals)\n",
    "sub2.set_xlabel('Gender')\n",
    "sub2.set_ylabel('Proportion ')\n",
    "\n",
    "plt.show()"
   ]
  },
  {
   "cell_type": "markdown",
   "metadata": {},
   "source": [
    "It look like gender doesn't play a large role in no-show percentage. Interestingly enough, there are a lot more female patient appointment than male appointments. This could be due to the gender distribution in the city (unlikely), or randomness in the appointment samples selected (even more unlikely). I have a feeling it might be related to ob/gyn clinic appointments for females, so I can plot female percentage among different age brackets to see if there is a spike in female percentage after reproductive age."
   ]
  },
  {
   "cell_type": "markdown",
   "metadata": {},
   "source": [
    "First, we're going to want to bin the ages, as 100 bars is too many to read effectively. Creating 20 bins instead of 100 bars is possible to graph effectively while still retaining some good info on differences between age groups. We do this using [linspace](https://docs.scipy.org/doc/numpy-1.13.0/reference/generated/numpy.linspace.html) to set equally spaced bins, then using [pandas.cut](https://chrisalbon.com/python/pandas_binning_data.html) to add a new column to the dataframe with the associated age bin for each appointment."
   ]
  },
  {
   "cell_type": "code",
   "execution_count": 17,
   "metadata": {
    "collapsed": true
   },
   "outputs": [],
   "source": [
    "bins = np.linspace(0,100,21)\n",
    "appt_df['binned_age'] = pd.cut(appt_df['Age'], bins)"
   ]
  },
  {
   "cell_type": "markdown",
   "metadata": {},
   "source": [
    "Next, we need percentages of each age bin that are female. To do this, I first get a list of total numbers of people in each bin and a list of women in each bin using some groupby magic ([Here](https://www.tutorialspoint.com/python_pandas/python_pandas_groupby.htm) is a good resource for the basics of groupby, but I wish I could say it helped here with extracting info from double groupbys). Then, I divide the lists using zip and a list comprehension."
   ]
  },
  {
   "cell_type": "code",
   "execution_count": 18,
   "metadata": {},
   "outputs": [
    {
     "name": "stdout",
     "output_type": "stream",
     "text": [
      "[0.4739990234375, 0.46458600541541972, 0.54170309494666902, 0.70172110042011115, 0.74014814814814811, 0.74416951080773608, 0.70577862181226259, 0.69318921734600858, 0.7037090698348305, 0.67557861133280128, 0.68783937365829018, 0.68264014466546108, 0.67280606717226432, 0.67110829103214886, 0.66425652310594152, 0.67401574803149611, 0.65286812536960381, 0.70892018779342725, 0.69847328244274809, 0.76923076923076927]\n"
     ]
    }
   ],
   "source": [
    "bin_totals = appt_df.groupby(['binned_age']).size().tolist()\n",
    "# I basically did a double groupby, then made a list out of every other value(as the second groupby column was gender),so\n",
    "# the values alternated F then M\n",
    "bin_females = appt_df.groupby(['binned_age','Gender']).size().get_values()[::2] #this one line took me > 30 minutes\n",
    "\n",
    "female_percents = [(x*1.0)/y for x, y in zip(bin_females, bin_totals)] # bin_females / bin_totals\n",
    "print(female_percents)"
   ]
  },
  {
   "cell_type": "markdown",
   "metadata": {},
   "source": [
    "Now we can make the histogram."
   ]
  },
  {
   "cell_type": "code",
   "execution_count": 19,
   "metadata": {
    "scrolled": true
   },
   "outputs": [
    {
     "data": {
      "image/png": "[encoded data removed]",
      "text/plain": [
       "<matplotlib.figure.Figure at 0x7f728a5111d0>"
      ]
     },
     "metadata": {},
     "output_type": "display_data"
    }
   ],
   "source": [
    "xVals = list(appt_df.groupby(['binned_age']).size().index.values) # a list of bin labels\n",
    "x_pos = np.arange(len(xVals))\n",
    "\n",
    "fig = plt.figure(figsize=(20, 6))\n",
    "plt.title('Proportion of women by age bracket') \n",
    "plt.bar(x_pos, female_percents, align='center', alpha=0.5)\n",
    "plt.xticks(x_pos, xVals)\n",
    "plt.xlabel('Age Bracket')\n",
    "plt.ylabel('Proportion Female')\n",
    "\n",
    "plt.show()"
   ]
  },
  {
   "cell_type": "markdown",
   "metadata": {},
   "source": [
    "You can clearly see that the proportion of females at medical appointments starts to rise drastically when reproductive age starts, supporting my previous hypothesis. You can also see an increase again at later years, possibly due to increased overall life expectancy of females compared to males, but also possibly due to lack of samples of patients 85 and older."
   ]
  },
  {
   "cell_type": "markdown",
   "metadata": {},
   "source": [
    "As a side note, I was able to fit all the x value labels (the age brackets) on this large graph, but I didn't think I would be able to, so I prepared a useful method for de-cluttering x value labels once they start to overlap. You can hide every nth label using this code to only make every nth label visible on the graph:"
   ]
  },
  {
   "cell_type": "code",
   "execution_count": 20,
   "metadata": {
    "collapsed": true
   },
   "outputs": [],
   "source": [
    "# for label in ax.get_xticklabels():\n",
    "#     label.set_visible(False)\n",
    "# for label in ax.get_xticklabels()[::n]:\n",
    "#     label.set_visible(True)"
   ]
  },
  {
   "cell_type": "markdown",
   "metadata": {},
   "source": [
    "### Age"
   ]
  },
  {
   "cell_type": "markdown",
   "metadata": {},
   "source": [
    "While wer're at it, we may as well use the binning technique we just used to look at the correlation between age and no-show percentage. I'll also plot the general age distribution on top for reference."
   ]
  },
  {
   "cell_type": "code",
   "execution_count": 21,
   "metadata": {
    "scrolled": false
   },
   "outputs": [
    {
     "data": {
      "image/png": "[encoded data removed]",
      "text/plain": [
       "<matplotlib.figure.Figure at 0x7f728739a5c0>"
      ]
     },
     "metadata": {},
     "output_type": "display_data"
    }
   ],
   "source": [
    "vals1 = appt_df.groupby(['binned_age']).size().tolist() #list of number of appointments per bin\n",
    "\n",
    "vals2 = appt_df.groupby(['binned_age'])['No_show'].mean().get_values().tolist() # list of no-show percentage for each age range\n",
    "\n",
    "xVals = list(appt_df.groupby(['binned_age']).size().index.values) # the list of bin labels\n",
    "x_pos = np.arange(len(xVals))\n",
    "\n",
    "fig = plt.figure(figsize=(20, 12))\n",
    "\n",
    "sub1 = fig.add_subplot(211)\n",
    "sub1.set_title('Number of appointments of each age range') \n",
    "sub1.bar(x_pos, vals1, align='center', alpha=0.5)\n",
    "sub1.set_xticks(x_pos)\n",
    "sub1.set_xticklabels(xVals)\n",
    "sub1.set_xlabel('Age Range')\n",
    "sub1.set_ylabel('Number of appointments')\n",
    "\n",
    "sub2 = fig.add_subplot(212)\n",
    "sub2.set_title('Proportion of no-shows for each age range')\n",
    "sub2.bar(x_pos, vals2, align='center', alpha=0.5)\n",
    "sub2.set_xticks(x_pos)\n",
    "sub2.set_xticklabels(xVals)\n",
    "sub2.set_xlabel('Age Range')\n",
    "sub2.set_ylabel('Proportion ')\n",
    "\n",
    "plt.show()"
   ]
  },
  {
   "cell_type": "markdown",
   "metadata": {},
   "source": [
    "These first plot shows a general trend of decreasing number of appointments as age increases (with the exception of a dip during teenage years), starting to fall more rapidly after age 60 (along with general life expectancy). The second plot shows that age is indeed correlated with no-show rate. It seems both young children and the elderly are more likely to show for appointments than the rest of the groups, possibly due to increased concern about health or increased free time due to lack of a job or schooling. This fits with the research showing a major reason for no-shows is that patients feel like they're fine and don't have the time to go to appointments."
   ]
  },
  {
   "cell_type": "markdown",
   "metadata": {},
   "source": [
    "### Date of appointment"
   ]
  },
  {
   "cell_type": "markdown",
   "metadata": {},
   "source": [
    "While patient demographics is one way to check for disparities in no-show rate, we can also look at the appointment time itself to see if it plays a role in no-shows. Earlier, we extracted information from the scheduledDay and appointmentDay columns. We now have month and weekday of the appointment, as well as the number of days a patient must wait between scheduling and attending their appointment. We will now look at these factors."
   ]
  },
  {
   "cell_type": "markdown",
   "metadata": {},
   "source": [
    "##### Month"
   ]
  },
  {
   "cell_type": "code",
   "execution_count": 22,
   "metadata": {
    "scrolled": true
   },
   "outputs": [
    {
     "name": "stdout",
     "output_type": "stream",
     "text": [
      "month\n",
      "Apr     3235\n",
      "Jun    26448\n",
      "May    80831\n",
      "dtype: int64\n"
     ]
    }
   ],
   "source": [
    "print(appt_df.groupby(['month']).size())"
   ]
  },
  {
   "cell_type": "markdown",
   "metadata": {},
   "source": [
    "As you can see, all the data is during a 3 month period. I had thought (due to documentation on Kaggle), that the data was spread over a year+ long period, but it turns out that the newest version of the data containing neighborhood information is from a different sample. I was planning to look for possible seasonal effects in no-show rate, but I'll have to skip that now. Just a lesson to always double-check your data values after importing the data!"
   ]
  },
  {
   "cell_type": "markdown",
   "metadata": {},
   "source": [
    "#### Weekday"
   ]
  },
  {
   "cell_type": "code",
   "execution_count": 23,
   "metadata": {},
   "outputs": [
    {
     "name": "stdout",
     "output_type": "stream",
     "text": [
      "Sunday Appointments: None\n",
      "Saturday Appointments: 39\n"
     ]
    }
   ],
   "source": [
    "print(\"Sunday Appointments:\", appt_df['weekday'].value_counts().get('0'))\n",
    "print(\"Saturday Appointments:\", appt_df['weekday'].value_counts().get('6'))"
   ]
  },
  {
   "cell_type": "markdown",
   "metadata": {},
   "source": [
    "You can see there are no appointments on Sunday and only 39 on Saturday, so we will ignore these."
   ]
  },
  {
   "cell_type": "code",
   "execution_count": 24,
   "metadata": {
    "scrolled": false
   },
   "outputs": [
    {
     "data": {
      "image/png": "[encoded data removed]",
      "text/plain": [
       "<matplotlib.figure.Figure at 0x7f72878deb00>"
      ]
     },
     "metadata": {},
     "output_type": "display_data"
    }
   ],
   "source": [
    "vals1 = appt_df.groupby(['weekday']).size().tolist() #list of number of appointments per weekday\n",
    "vals1.pop() #remove Sat\n",
    "\n",
    "vals2 = appt_df.groupby(['weekday'])['No_show'].mean().get_values().tolist() # list of no-show percentage for each weekday\n",
    "vals2.pop() #remove Sat\n",
    "\n",
    "xVals = [\"Mon\", \"Tue\", \"Wed\", \"Thu\", \"Fri\"] # the list of weekdays (can't plot Sunday since value is 0)\n",
    "x_pos = np.arange(len(xVals))\n",
    "\n",
    "fig = plt.figure(figsize=(20, 12))\n",
    "\n",
    "sub1 = fig.add_subplot(211)\n",
    "sub1.set_title('Number of appointments of each weekday') \n",
    "sub1.bar(x_pos, vals1, align='center', alpha=0.5)\n",
    "sub1.set_xticks(x_pos)\n",
    "sub1.set_xticklabels(xVals)\n",
    "sub1.set_xlabel('Weekday')\n",
    "sub1.set_ylabel('Number of appointments')\n",
    "\n",
    "sub2 = fig.add_subplot(212)\n",
    "sub2.set_title('Proportion of no-shows for each weekday')\n",
    "sub2.bar(x_pos, vals2, align='center', alpha=0.5)\n",
    "sub2.set_xticks(x_pos)\n",
    "sub2.set_xticklabels(xVals)\n",
    "sub2.set_xlabel('Weekday')\n",
    "sub2.set_ylabel('Proportion ')\n",
    "\n",
    "plt.show()"
   ]
  },
  {
   "cell_type": "markdown",
   "metadata": {},
   "source": [
    "You can see appointment numbers decrease on thursdays and fridays. Appointment no-shows decrease slightly over the course of the week, but rise again on friday. While it looks as though clinics are already doing a good job at reducing the number of friday appointments that have higher rates of no-shows, perhaps friday appointments could be prioritized to populations with lower no-show rates, such as young children and the elderly."
   ]
  },
  {
   "cell_type": "markdown",
   "metadata": {},
   "source": [
    "#### Wait Time"
   ]
  },
  {
   "cell_type": "markdown",
   "metadata": {},
   "source": [
    "Wait time is an especially important factor in no-show rates according to the literature. I'll be doing a similar visualization as I did with age groups, except I'd like to try a different method of binning. Due to the extreme skew in waiting times (concentrated around 0 days), I'll be using quantile-based binning using [pandas.qcut](https://pandas.pydata.org/pandas-docs/stable/generated/pandas.qcut.html)\n",
    "\n",
    "Update: qcut is a good tool to have, but I ran into some problems. Specifically, when you try to make a lot of bins, but the data is so skewed that bin edges become non-unique (tries to make multiple bins for extremely common values such as 0), qcut breaks. I also can't get the qcut argument \"duplicates\" to work. See [this post](https://stackoverflow.com/questions/36880490/why-use-pandas-qcut-return-valueerror-bin-edges-must-be-unique/36883735#36883735) for more details. Instead, I'll be using a solution method provided [here(solution 1)](https://stackoverflow.com/questions/20158597/how-to-qcut-with-non-unique-bin-edges) that combines the contested bins into one. \n",
    "\n",
    "Update 2: The solutions provided in the above posts are not correctly separating good-sized bins, and I've spent over 45 minutes on this one problem, so I'm going to create bins manually, check by printing appt_df.groupby(['binned_wait']).size(), then fix the bins manually. For advanced users, I challenge you to find a good solution to this problem!"
   ]
  },
  {
   "cell_type": "code",
   "execution_count": 70,
   "metadata": {
    "collapsed": true
   },
   "outputs": [],
   "source": [
    "# manually imputting bin boundaries (I use -.01 as a boudary so I can get a bin with just 0 in it)\n",
    "bins = [-.01,0,1,2,4,6,8,14,20,27,35,179] \n",
    "appt_df['binned_wait'] = pd.cut(appt_df['wait_days'], bins)\n",
    "# print(appt_df.groupby(['binned_wait']).size()) # used to check bin sizes"
   ]
  },
  {
   "cell_type": "code",
   "execution_count": 71,
   "metadata": {
    "scrolled": false
   },
   "outputs": [
    {
     "data": {
      "image/png": "[encoded data removed]",
      "text/plain": [
       "<matplotlib.figure.Figure at 0x7f7287d7b7b8>"
      ]
     },
     "metadata": {},
     "output_type": "display_data"
    },
    {
     "name": "stdout",
     "output_type": "stream",
     "text": [
      "Percent of same-day appointments 0.34891506958394414\n",
      "Percent of appointments within 1 week 0.640117994100295\n",
      "Percent of appointments later than 1 week 0.35988200589970504\n"
     ]
    }
   ],
   "source": [
    "vals1 = appt_df.groupby(['binned_wait']).size().tolist() #list of number of appointments per bin\n",
    "\n",
    "vals2 = appt_df.groupby(['binned_wait'])['No_show'].mean().get_values().tolist() # list of no-show percentage for each wait range\n",
    "\n",
    "xVals = list(appt_df.groupby(['binned_wait']).size().index.values) # the list of bin labels\n",
    "x_pos = np.arange(len(xVals))\n",
    "\n",
    "fig = plt.figure(figsize=(20, 12))\n",
    "\n",
    "sub1 = fig.add_subplot(211)\n",
    "sub1.set_title('Number of appointments of each waiting-time range between scheduling and appointment') \n",
    "sub1.bar(x_pos, vals1, align='center', alpha=0.5)\n",
    "sub1.set_xticks(x_pos)\n",
    "sub1.set_xticklabels(xVals)\n",
    "sub1.set_xlabel('Waiting-time Range')\n",
    "sub1.set_ylabel('Number of appointments')\n",
    "\n",
    "sub2 = fig.add_subplot(212)\n",
    "sub2.set_title('Proportion of no-shows for each waiting-time range between scheduling and appointment')\n",
    "sub2.bar(x_pos, vals2, align='center', alpha=0.5)\n",
    "sub2.set_xticks(x_pos)\n",
    "sub2.set_xticklabels(xVals)\n",
    "sub2.set_xlabel('Waiting-time Range')\n",
    "sub2.set_ylabel('Proportion ')\n",
    "\n",
    "plt.show()\n",
    "\n",
    "print(\"Percent of same-day appointments\", len(appt_df[appt_df['wait_days']==0])/appt_df.shape[0])\n",
    "print(\"Percent of appointments within 1 week\", len(appt_df[appt_df['wait_days']<=7])/appt_df.shape[0])\n",
    "print(\"Percent of appointments later than 1 week\", len(appt_df[appt_df['wait_days']>7])/appt_df.shape[0])"
   ]
  },
  {
   "cell_type": "markdown",
   "metadata": {},
   "source": [
    "The first graph shows that there is a large portion of patients, over 1/3, that get same-day appointments. Extending the waiting time to about a week will include roughly 2/3 of patients, with roughly 1/3 of patients having to wait more than a week for an appointment. \n",
    "\n",
    "The results of waiting time on no-show rate are unsurprising. Only 5% of same-day appointments are no-shows, with a general trend of increasing no-show rates as waiting time increases. Keeping the appointment date within a week of scheduling seems to help decrease no-shows significantly, but really any decrease in waiting time below 3 weeks seems to reduce no-shows. The connection to policy is clear: keeping down the number of days from scheduling to appointment will reduce no-shows."
   ]
  },
  {
   "cell_type": "markdown",
   "metadata": {},
   "source": [
    "#### SMS"
   ]
  },
  {
   "cell_type": "markdown",
   "metadata": {},
   "source": [
    "[Studies](https://www.ncbi.nlm.nih.gov/pubmed/20569761/) have shown that outpatient reminder systems are effective in reducing no-show rates. This specific study showed a reduction as a result of both automated and staff calls (STAFF, AUTO, and NONE group no-show rates were 13.6%, 17.3%, and 23.1% respectively). Based on these studies, we might hypothesize that SMS reminders reduce no-show rates as well. Let's find out through visualization, as well as a paired-t test."
   ]
  },
  {
   "cell_type": "code",
   "execution_count": 27,
   "metadata": {},
   "outputs": [
    {
     "data": {
      "image/png": "[encoded data removed]",
      "text/plain": [
       "<matplotlib.figure.Figure at 0x7f728a4909b0>"
      ]
     },
     "metadata": {},
     "output_type": "display_data"
    }
   ],
   "source": [
    "vals1 = []\n",
    "vals1.append(appt_df['SMS_received'].value_counts().get(0)) # num of people not receiving SMS\n",
    "vals1.append(appt_df['SMS_received'].value_counts().get(1)) # num of people receiving SMS\n",
    "\n",
    "vals2 = []\n",
    "vals2.append(appt_df.groupby(['SMS_received'])['No_show'].mean().get(0)) #proportion of no-shows of people not receiving SMS\n",
    "vals2.append(appt_df.groupby(['SMS_received'])['No_show'].mean().get(1)) #proportion of no-shows of people receiving SMS\n",
    "\n",
    "xVals = ['No', 'Yes']\n",
    "x_pos = np.arange(len(xVals))\n",
    "\n",
    "fig = plt.figure(figsize=(15, 10))\n",
    "\n",
    "sub1 = fig.add_subplot(221)\n",
    "sub1.set_title('Number of appointments of each gender') \n",
    "sub1.bar(x_pos, vals1, align='center', alpha=0.5)\n",
    "sub1.set_xticks(x_pos)\n",
    "sub1.set_xticklabels(xVals)\n",
    "sub1.set_xlabel('SMS received?')\n",
    "sub1.set_ylabel('Number of appointments')\n",
    "\n",
    "sub2 = fig.add_subplot(222)\n",
    "sub2.set_title('Proportion of no-shows for each gender')\n",
    "sub2.bar(x_pos, vals2, align='center', alpha=0.5)\n",
    "sub2.set_xticks(x_pos)\n",
    "sub2.set_xticklabels(xVals)\n",
    "sub2.set_xlabel('SMS received?')\n",
    "sub2.set_ylabel('Proportion ')\n",
    "\n",
    "plt.show()"
   ]
  },
  {
   "cell_type": "markdown",
   "metadata": {},
   "source": [
    "The results are quite surprising. These graphs suggest that < 1/3 of patients receive SMS reminders of appointments, and patients who DO receive SMS reminders have a HIGHER rate of no-shows than those who don't (by a whopping 10%). Logically, this makes no sense at all, and my suspicion is that the data was entered in or labeled wrong (0 for SMS_received field might mean the SMS WAS received). If this is the case, the data will match previous studies showing the effectiveness of reminders in decreasing medical appointment no-shows."
   ]
  },
  {
   "cell_type": "markdown",
   "metadata": {},
   "source": [
    "For the purpose of this tutorial, I'll assume the data was mislabeled (0 = received), so I can proceed with a [t-test](https://docs.scipy.org/doc/scipy/reference/generated/scipy.stats.ttest_ind.html) to see if receiving an SMS had a significant effect on no-show rate. T-tests are used to determine if 2 sets of data are significantly different from each other. Specifically, it tests whether the means of two populations are equal (null hypothesis), or if the null can be rejected (the means are different). In this case, the null hypothesis can be thought of as \"Receiving an SMS reminder makes no difference on no-show rate,\" while the alternative hypothesis would be \"Receiving an SMS reminder makes a significant difference on no-show rate.\" For more info on t-tests, [here's](https://www.socialresearchmethods.net/kb/stat_t.php) a good explanatory post."
   ]
  },
  {
   "cell_type": "code",
   "execution_count": 28,
   "metadata": {},
   "outputs": [
    {
     "name": "stdout",
     "output_type": "stream",
     "text": [
      "0.139079833843\n",
      "0.199713381675\n"
     ]
    }
   ],
   "source": [
    "print(np.var(appt_df[appt_df.SMS_received == 0]['No_show'].values)) #variance of no-show values for those who didn't receive SMS\n",
    "print(np.var(appt_df[appt_df.SMS_received == 1]['No_show'].values)) #variance of no-show values for those who received SMS"
   ]
  },
  {
   "cell_type": "markdown",
   "metadata": {},
   "source": [
    "The variances of the 2 samples are close enough to do an [independent two-sample t-test](https://en.wikipedia.org/wiki/Student%27s_t-test#Equal_or_unequal_sample_sizes,_equal_variance)"
   ]
  },
  {
   "cell_type": "code",
   "execution_count": 29,
   "metadata": {},
   "outputs": [
    {
     "data": {
      "text/plain": [
       "Ttest_indResult(statistic=-42.40939939155362, pvalue=0.0)"
      ]
     },
     "execution_count": 29,
     "metadata": {},
     "output_type": "execute_result"
    }
   ],
   "source": [
    "from scipy import stats\n",
    "received = appt_df[appt_df.SMS_received == 0]['No_show'].values.tolist() #variance of no-show vals for pts not receiving SMS\n",
    "not_received = appt_df[appt_df.SMS_received == 1]['No_show'].values.tolist() # no-show values for those who received SMS\n",
    "stats.ttest_ind(received,not_received)"
   ]
  },
  {
   "cell_type": "markdown",
   "metadata": {},
   "source": [
    "Since the p-value is ~0 (smaller than any significance level of .01 , .05, or .10), we can reject the null and conclude that receiving an SMS reminder makes a significant difference on no-show rate. This is result makes sense, as we can see from the graphs that the means in no-show rate are ~10% different."
   ]
  },
  {
   "cell_type": "markdown",
   "metadata": {},
   "source": [
    "## ML"
   ]
  },
  {
   "cell_type": "markdown",
   "metadata": {},
   "source": [
    "Machine learning is kinda what it sounds like. You give a model data, it learns information/connections/relationships from it (training), and it can use the trained model to draw conclusions from new data. In this case, we will be using supervised learning (data with attached labels - ex. No_show) to develop a binary classifier (predicts whether an example is either class A or class B - ex. show or No_show). [Here](http://www.r2d3.us/visual-intro-to-machine-learning-part-1/) is a nice visual intro to ML (specifically decision trees, which I will be using). \n",
    "\n",
    "In the context of this tutorial, I will be using ML to see if I can find appointment features that are good predictors of whether the patient will show up or not. I also will test the effectiveness of a created model to use these features to predict labels (show or no-show) for unlabeled data (which I take from the dataset and separate the label). "
   ]
  },
  {
   "cell_type": "markdown",
   "metadata": {},
   "source": [
    "Before I can begin with the ML, I have to clean up my data a little more. Specifically, I must turn all categorical data into numeric form, as scikit-learn doesn't work well with categorical data. I will be using One Hot Encoding (OHE), or dummy variables, which takes each category value and turns it into a binary vector which is the size of the number of values in the category, where all columns are equal to zero except for the category column. Since that was probably confusing, [here's](https://blog.myyellowroad.com/using-categorical-data-in-machine-learning-with-python-from-dummy-variables-to-deep-category-66041f734512) a nice tutorial on OHE. One major downside of OHE is that it drastically increases dimensionality of the data, making training and serving take a lot longer. As a result, I won't try to encode neighborhood, as there are almost 90 different values. I will now do OHE on weekday and handicap (there are 5 values), as well as add a new column based on how many appointments a patient has missed in the past. "
   ]
  },
  {
   "cell_type": "code",
   "execution_count": 30,
   "metadata": {},
   "outputs": [
    {
     "name": "stdout",
     "output_type": "stream",
     "text": [
      "Average # of appointments for a patient:  1.77407133913\n"
     ]
    }
   ],
   "source": [
    "print(\"Average # of appointments for a patient: \", appt_df.groupby(['PatientId']).size().get_values().mean())"
   ]
  },
  {
   "cell_type": "markdown",
   "metadata": {},
   "source": [
    "First, I'll add the new feature, 'missed'. Since each patient can have multiple appointments, they can also have multiple missed appointments. Logically, it makes sense that a person who has missed more appointments is more likely to miss other appointments. Therefore, 'missed' will encode how many appointments each patient has missed. However, I must be very careful not to fall prey to [Leakage](https://www.kaggle.com/wiki/Leakage), where extra information is included in the training data that allows a model to make unrealistically good predictions. However, I think adding 'missed' is fine, as past patient information would be available to a provider who is writing a new clinic referral. If past no-shows are a good indicator of future no-shows, the provider can use alternate strategies to try to increase the likelihood of the patient showing up to the next clinic visit. "
   ]
  },
  {
   "cell_type": "code",
   "execution_count": 31,
   "metadata": {
    "collapsed": true
   },
   "outputs": [],
   "source": [
    "appt_df['missed'] = appt_df.groupby('PatientId')['No_show'].apply(lambda x: x.cumsum())"
   ]
  },
  {
   "cell_type": "markdown",
   "metadata": {},
   "source": [
    "There is a problem though. Currently, there is unacceptable leakage, as a no-show appointment includes it's own value in it's missed column. For example, for a patient with only 1 appointment that was a no-show, the missed column is 1 when it should be 0. We only want the missed column to include information about other appointments by the same person, not the result of that particular appointment. Therefore, we will decrement the missed column for all appointments labeled as no-shows."
   ]
  },
  {
   "cell_type": "code",
   "execution_count": 32,
   "metadata": {
    "collapsed": true
   },
   "outputs": [],
   "source": [
    "appt_df.loc[appt_df['No_show'] == 1, 'missed'] = (appt_df['missed'] - 1)"
   ]
  },
  {
   "cell_type": "markdown",
   "metadata": {},
   "source": [
    "Now, on to OHE and removing unneccessary columns in preparation for the ML."
   ]
  },
  {
   "cell_type": "code",
   "execution_count": 33,
   "metadata": {
    "collapsed": true
   },
   "outputs": [],
   "source": [
    "#drop unneccessary columns\n",
    "appt_df.drop('PatientId', axis=1, inplace=True)\n",
    "appt_df.drop('Neighbourhood', axis=1, inplace=True)\n",
    "appt_df.drop('month', axis=1, inplace=True)\n",
    "appt_df.drop('binned_age', axis=1, inplace=True)\n",
    "appt_df.drop('binned_wait', axis=1, inplace=True)"
   ]
  },
  {
   "cell_type": "code",
   "execution_count": 34,
   "metadata": {
    "collapsed": true
   },
   "outputs": [],
   "source": [
    "# turn gender into binary variable \n",
    "appt_df['Gender'].replace(\"F\", 0,inplace=True)\n",
    "appt_df['Gender'].replace(\"M\", 1,inplace=True)\n",
    "appt_df.rename(index=str, columns={\"Gender\": \"male\"},inplace=True)"
   ]
  },
  {
   "cell_type": "markdown",
   "metadata": {},
   "source": [
    "OHE Handicap column"
   ]
  },
  {
   "cell_type": "code",
   "execution_count": 35,
   "metadata": {
    "collapsed": true
   },
   "outputs": [],
   "source": [
    "#Convert to Categorical\n",
    "appt_df['Handcap'] = pd.Categorical(appt_df['Handcap'])\n",
    "#Convert to Dummy Variables\n",
    "Handicap = pd.get_dummies(appt_df['Handcap'], prefix = 'Handicap')\n",
    "appt_df = pd.concat([appt_df, Handicap], axis=1)\n",
    "\n",
    "appt_df.drop('Handcap', axis=1, inplace=True)"
   ]
  },
  {
   "cell_type": "markdown",
   "metadata": {},
   "source": [
    "OHE weekday column"
   ]
  },
  {
   "cell_type": "code",
   "execution_count": 36,
   "metadata": {
    "collapsed": true
   },
   "outputs": [],
   "source": [
    "#Convert to Categorical\n",
    "appt_df['weekday'] = pd.Categorical(appt_df['weekday'])\n",
    "#Convert to Dummy Variables\n",
    "weekday = pd.get_dummies(appt_df['weekday'], prefix = 'weekday')\n",
    "appt_df = pd.concat([appt_df, weekday], axis=1)\n",
    "\n",
    "appt_df.drop('weekday', axis=1, inplace=True)"
   ]
  },
  {
   "cell_type": "code",
   "execution_count": 37,
   "metadata": {
    "scrolled": true
   },
   "outputs": [
    {
     "data": {
      "text/html": [
       "<div>\n",
       "<table border=\"1\" class=\"dataframe\">\n",
       "  <thead>\n",
       "    <tr style=\"text-align: right;\">\n",
       "      <th></th>\n",
       "      <th>male</th>\n",
       "      <th>Age</th>\n",
       "      <th>Scholarship</th>\n",
       "      <th>Hipertension</th>\n",
       "      <th>Diabetes</th>\n",
       "      <th>Alcoholism</th>\n",
       "      <th>SMS_received</th>\n",
       "      <th>No_show</th>\n",
       "      <th>wait_days</th>\n",
       "      <th>missed</th>\n",
       "      <th>...</th>\n",
       "      <th>Handicap_1</th>\n",
       "      <th>Handicap_2</th>\n",
       "      <th>Handicap_3</th>\n",
       "      <th>Handicap_4</th>\n",
       "      <th>weekday_1</th>\n",
       "      <th>weekday_2</th>\n",
       "      <th>weekday_3</th>\n",
       "      <th>weekday_4</th>\n",
       "      <th>weekday_5</th>\n",
       "      <th>weekday_6</th>\n",
       "    </tr>\n",
       "  </thead>\n",
       "  <tbody>\n",
       "    <tr>\n",
       "      <th>0</th>\n",
       "      <td>0</td>\n",
       "      <td>62</td>\n",
       "      <td>0</td>\n",
       "      <td>1</td>\n",
       "      <td>0</td>\n",
       "      <td>0</td>\n",
       "      <td>0</td>\n",
       "      <td>0</td>\n",
       "      <td>0</td>\n",
       "      <td>0</td>\n",
       "      <td>...</td>\n",
       "      <td>0</td>\n",
       "      <td>0</td>\n",
       "      <td>0</td>\n",
       "      <td>0</td>\n",
       "      <td>0</td>\n",
       "      <td>0</td>\n",
       "      <td>0</td>\n",
       "      <td>0</td>\n",
       "      <td>1</td>\n",
       "      <td>0</td>\n",
       "    </tr>\n",
       "    <tr>\n",
       "      <th>1</th>\n",
       "      <td>1</td>\n",
       "      <td>56</td>\n",
       "      <td>0</td>\n",
       "      <td>0</td>\n",
       "      <td>0</td>\n",
       "      <td>0</td>\n",
       "      <td>0</td>\n",
       "      <td>0</td>\n",
       "      <td>0</td>\n",
       "      <td>0</td>\n",
       "      <td>...</td>\n",
       "      <td>0</td>\n",
       "      <td>0</td>\n",
       "      <td>0</td>\n",
       "      <td>0</td>\n",
       "      <td>0</td>\n",
       "      <td>0</td>\n",
       "      <td>0</td>\n",
       "      <td>0</td>\n",
       "      <td>1</td>\n",
       "      <td>0</td>\n",
       "    </tr>\n",
       "    <tr>\n",
       "      <th>2</th>\n",
       "      <td>0</td>\n",
       "      <td>62</td>\n",
       "      <td>0</td>\n",
       "      <td>0</td>\n",
       "      <td>0</td>\n",
       "      <td>0</td>\n",
       "      <td>0</td>\n",
       "      <td>0</td>\n",
       "      <td>0</td>\n",
       "      <td>0</td>\n",
       "      <td>...</td>\n",
       "      <td>0</td>\n",
       "      <td>0</td>\n",
       "      <td>0</td>\n",
       "      <td>0</td>\n",
       "      <td>0</td>\n",
       "      <td>0</td>\n",
       "      <td>0</td>\n",
       "      <td>0</td>\n",
       "      <td>1</td>\n",
       "      <td>0</td>\n",
       "    </tr>\n",
       "    <tr>\n",
       "      <th>3</th>\n",
       "      <td>0</td>\n",
       "      <td>8</td>\n",
       "      <td>0</td>\n",
       "      <td>0</td>\n",
       "      <td>0</td>\n",
       "      <td>0</td>\n",
       "      <td>0</td>\n",
       "      <td>0</td>\n",
       "      <td>0</td>\n",
       "      <td>0</td>\n",
       "      <td>...</td>\n",
       "      <td>0</td>\n",
       "      <td>0</td>\n",
       "      <td>0</td>\n",
       "      <td>0</td>\n",
       "      <td>0</td>\n",
       "      <td>0</td>\n",
       "      <td>0</td>\n",
       "      <td>0</td>\n",
       "      <td>1</td>\n",
       "      <td>0</td>\n",
       "    </tr>\n",
       "    <tr>\n",
       "      <th>4</th>\n",
       "      <td>0</td>\n",
       "      <td>56</td>\n",
       "      <td>0</td>\n",
       "      <td>1</td>\n",
       "      <td>1</td>\n",
       "      <td>0</td>\n",
       "      <td>0</td>\n",
       "      <td>0</td>\n",
       "      <td>0</td>\n",
       "      <td>0</td>\n",
       "      <td>...</td>\n",
       "      <td>0</td>\n",
       "      <td>0</td>\n",
       "      <td>0</td>\n",
       "      <td>0</td>\n",
       "      <td>0</td>\n",
       "      <td>0</td>\n",
       "      <td>0</td>\n",
       "      <td>0</td>\n",
       "      <td>1</td>\n",
       "      <td>0</td>\n",
       "    </tr>\n",
       "  </tbody>\n",
       "</table>\n",
       "<p>5 rows × 21 columns</p>\n",
       "</div>"
      ],
      "text/plain": [
       "   male  Age  Scholarship  Hipertension  Diabetes  Alcoholism  SMS_received  \\\n",
       "0     0   62            0             1         0           0             0   \n",
       "1     1   56            0             0         0           0             0   \n",
       "2     0   62            0             0         0           0             0   \n",
       "3     0    8            0             0         0           0             0   \n",
       "4     0   56            0             1         1           0             0   \n",
       "\n",
       "   No_show  wait_days  missed    ...      Handicap_1  Handicap_2  Handicap_3  \\\n",
       "0        0          0       0    ...               0           0           0   \n",
       "1        0          0       0    ...               0           0           0   \n",
       "2        0          0       0    ...               0           0           0   \n",
       "3        0          0       0    ...               0           0           0   \n",
       "4        0          0       0    ...               0           0           0   \n",
       "\n",
       "   Handicap_4  weekday_1  weekday_2  weekday_3  weekday_4  weekday_5  \\\n",
       "0           0          0          0          0          0          1   \n",
       "1           0          0          0          0          0          1   \n",
       "2           0          0          0          0          0          1   \n",
       "3           0          0          0          0          0          1   \n",
       "4           0          0          0          0          0          1   \n",
       "\n",
       "   weekday_6  \n",
       "0          0  \n",
       "1          0  \n",
       "2          0  \n",
       "3          0  \n",
       "4          0  \n",
       "\n",
       "[5 rows x 21 columns]"
      ]
     },
     "execution_count": 37,
     "metadata": {},
     "output_type": "execute_result"
    }
   ],
   "source": [
    "appt_df.head()"
   ]
  },
  {
   "cell_type": "markdown",
   "metadata": {},
   "source": [
    "#### Getting into it"
   ]
  },
  {
   "cell_type": "markdown",
   "metadata": {},
   "source": [
    "On to the ML (finally)! So the first thing you always do when training a classifier is to separate training data from test data. You use the training data to actually train the classifier, and test the trained classifier with the test data. You need to keep the data sets separate because the test data is meant to simulate real world data. If your test data is used to train the model, you can't be sure the model will generalize well to future data. "
   ]
  },
  {
   "cell_type": "code",
   "execution_count": 38,
   "metadata": {
    "collapsed": true
   },
   "outputs": [],
   "source": [
    "# Create arrays for the features and the response variable\n",
    "Y = appt_df['No_show'].values\n",
    "X = appt_df.drop('No_show', axis=1).values\n",
    "\n",
    "# split into train and test data (keep away from that test data !!!)\n",
    "X_train, X_test, Y_train, Y_test = train_test_split (X, Y, test_size = 0.25, random_state=320)"
   ]
  },
  {
   "cell_type": "markdown",
   "metadata": {},
   "source": [
    "We will be using a decision tree as our classifier. A decision tree basically splits the data recursively at each branch point based on the feature that will give the best separation of classes.  However, we want to limit the maximum depth of branches in the tree, because if we train on too specific of a model, it won't generalize well (overfitting). This tweaking of the max tree depth parameter based on the model makes it a hyperparameter. \n",
    "\n",
    "I chose decision tree because they have the advantage of interpretability. Since each branch is based on a single feature, you can tell which features are important enough to branch on. We can also visualize the tree. Furthermore, decision tree model computation doesn't take as long as other models, like SVMs. \n",
    "\n",
    "One way to search for a optimal depth is to do a k-fold cross-validation with a range of max_depths to choose from. In a k-fold cross-validation, the data is split into k subsets so that k-1 subsets are used for training and 1 subset is used for validation (i.e., it is used as a test set to compute a performance measure such as accuracy). [Here's](http://scikit-learn.org/stable/modules/cross_validation.html) more on cross validation if you'd like to learn more.\n",
    "\n",
    "We can use [GridSearchCV](http://scikit-learn.org/stable/modules/generated/sklearn.model_selection.GridSearchCV.html) to do a k-fold cross validation of our training data to find the optimal depth hyperparameter.\n",
    "\n",
    "Also worth noting, I'll be using f1 scoring instead of the usual accuracy scoring, as it is better when you have highly imbalanced classes (we have ~20% no-shows to ~80% shows). See [here](https://machinelearningmastery.com/tactics-to-combat-imbalanced-classes-in-your-machine-learning-dataset/) for more details and suggestions on combatting imbalanced data."
   ]
  },
  {
   "cell_type": "code",
   "execution_count": 39,
   "metadata": {},
   "outputs": [
    {
     "name": "stdout",
     "output_type": "stream",
     "text": [
      "Rank: 1\n",
      "Mean Test score: 0.7386230472964053\n",
      "Max-Depth: {'max_depth': 19}\n",
      "\n",
      "Rank: 2\n",
      "Mean Test score: 0.7384999524766689\n",
      "Max-Depth: {'max_depth': 17}\n",
      "\n",
      "Rank: 3\n",
      "Mean Test score: 0.7384500123705681\n",
      "Max-Depth: {'max_depth': 18}\n",
      "\n",
      "Rank: 4\n",
      "Mean Test score: 0.7381773674068975\n",
      "Max-Depth: {'max_depth': 16}\n",
      "\n",
      "Rank: 5\n",
      "Mean Test score: 0.7377828495617207\n",
      "Max-Depth: {'max_depth': 15}\n",
      "\n"
     ]
    }
   ],
   "source": [
    "import warnings\n",
    "warnings.filterwarnings(\"ignore\")\n",
    "\n",
    "# train the gridsearch model with each of the hyperparameter values with k-fold cross-validation using f1 scoring\n",
    "def k_fold_cv (X, Y, classifier, param_grid, cv):\n",
    "    grid_search = GridSearchCV(classifier, param_grid=param_grid, cv=cv, scoring='f1_weighted')\n",
    "    grid_search.fit(X,Y)\n",
    "    return grid_search\n",
    "\n",
    "# get the top n mean scores from gridsearch and their corresponding max_depth hyperparameters\n",
    "def get_top_n_scores(cv_results, n):\n",
    "    for i in range(1,n+1):\n",
    "        index = cv_results['rank_test_score'].tolist().index(i)\n",
    "        print(\"Rank: \" + str(i))\n",
    "        print(\"Mean Test score: \" + str(cv_results['mean_test_score'].tolist()[index]))\n",
    "        print(\"Max-Depth: \" + str(cv_results['params'][index]) + \"\\n\")\n",
    "    \n",
    "param_grid = {\"max_depth\": np.array(range(1, len(X_train[0])))} # test max_depth up to the number of columns\n",
    "dt_classifier = DecisionTreeClassifier()\n",
    "grid_search = k_fold_cv(X_train, Y_train, dt_classifier, param_grid, cv = 10)\n",
    "\n",
    "get_top_n_scores(grid_search.cv_results_, 5)"
   ]
  },
  {
   "cell_type": "markdown",
   "metadata": {},
   "source": [
    "It looks like even with 10-fold cross validation, the best scores were from the trees with the largest max_depth. However, the mean f1 scores for each value of max_depth were close enough to each other (even down to max_depth=10), that I will use max_depth=10 for my final model for ease of later visualization. Next, I will train a decision tree with the resulting max_depth=10, and see how it deals with the test data."
   ]
  },
  {
   "cell_type": "code",
   "execution_count": 40,
   "metadata": {},
   "outputs": [
    {
     "name": "stdout",
     "output_type": "stream",
     "text": [
      "             precision    recall  f1-score   support\n",
      "\n",
      "          0       0.81      0.98      0.89     22046\n",
      "          1       0.51      0.07      0.12      5583\n",
      "\n",
      "avg / total       0.75      0.80      0.73     27629\n",
      "\n"
     ]
    }
   ],
   "source": [
    "decision_tree = DecisionTreeClassifier(max_depth = 10) #create tree with hyperparameter\n",
    "decision_tree.fit(X_train, Y_train) # training\n",
    "\n",
    "y_pred = decision_tree.predict(X_test) # get predictions of test data\n",
    "\n",
    "print(metrics.classification_report(Y_test, y_pred))"
   ]
  },
  {
   "cell_type": "markdown",
   "metadata": {},
   "source": [
    "At first glance, you can see the overall f1 score (.73) is identical to our f1 score during training. This suggests we didn't overfit the data with our model."
   ]
  },
  {
   "cell_type": "markdown",
   "metadata": {},
   "source": [
    "Ah, [precision and recall](https://en.wikipedia.org/wiki/Precision_and_recall), our old friends... let's try to interpret these results. Remember that the 0 class on the left is \"show\" and 1 is \"no-show\".\n",
    "    - Precision(show)= .81 - out of those we predicted would show up, 81% actually showed up\n",
    "    - Precision(no-show)= .51 - out of those we predicted would be no-shows, 51% were actually no-shows\n",
    "    - Recall(show)= .98 - out of those who showed up(~80% of appointments), we correctly identified 98%\n",
    "    - Recall(no-show)= .07 - out of those who were no-shows (~20% of appointments), we correctly identified 7%\n",
    "    \n",
    "In the case of medical appointment no-shows, what we really care about is recall of no-shows (which this model performed very poorly on). For example, it doesn't really matter that much if we provide extra materials/attention to some people who would have shown up anyways. What really matters is providing those materials to the greatest portion of true no-shows in an attempt to reduce that number. "
   ]
  },
  {
   "cell_type": "markdown",
   "metadata": {},
   "source": [
    "In any case, I don't see providers using machine learning to predict whether a patient is likely to miss their appointment any time soon. What is really useful is to know features of patients or appointments that are influential overall in leading to no-shows (such as those we visualized in the EDA earlier), so we can come up with systemic policies and plans to combat the problem at a more global level."
   ]
  },
  {
   "cell_type": "markdown",
   "metadata": {},
   "source": [
    "#### Feature importance"
   ]
  },
  {
   "cell_type": "markdown",
   "metadata": {},
   "source": [
    "For the last part of my ML section, I was planning on displaying a visualization of the decision tree we created using [graphviz](http://dataaspirant.com/2017/04/21/visualize-decision-tree-python-graphviz/). Unfortunately, while I was able to save the image file using Docker, I'm unable to display it in the notebook due to PATH issues (I'll leave that as another quest for you should you choose to accept). FORTUNATELY, not all is lost, as we have tree.feature_importances, a list of feature importances for each feature. The importance of a feature is known as the Gini importance, and is calculated as the normalized total reduction of the criterion (ex. entropy) by a particular feature. These feature importances are arguably better indicators of the significance of a feature for the classifier than looking at the feature splits near the top of the tree with a visualization like graphviz, as they take into account the features' effect on the model as a whole and not just a single split. I'll show the top 5 feature importances below:"
   ]
  },
  {
   "cell_type": "code",
   "execution_count": 69,
   "metadata": {},
   "outputs": [
    {
     "name": "stdout",
     "output_type": "stream",
     "text": [
      "wait_days : with importance 0.641178744666\n",
      "Age : with importance 0.160296143984\n",
      "missed : with importance 0.0883135434706\n",
      "SMS_received : with importance 0.0234499784261\n",
      "male : with importance 0.0154368958121\n"
     ]
    }
   ],
   "source": [
    "features = appt_df.columns.tolist()\n",
    "features.remove('No_show')\n",
    "importances = decision_tree.feature_importances_ # get the Gini importances\n",
    "importances, features = (list(t) for t in zip(*sorted(zip(importances, features),reverse=True))) # grouping and sorting the lists\n",
    "for i in range(0,5):\n",
    "    print(features[i], \": with importance\",importances[i])"
   ]
  },
  {
   "cell_type": "markdown",
   "metadata": {},
   "source": [
    "Perfect!!! While our model kinda sucked in terms of recall of no-shows, it managed to encode all of the features we previously hypothesized to be relevant for no-show rate during EDA. Specifically, the number of days between scheduling and appointment, age, the number of other appointments missed by the same person, and receipt of an SMS are all important indicators in our model for determining no-show likelihood. "
   ]
  },
  {
   "cell_type": "markdown",
   "metadata": {},
   "source": [
    "## Insight and Policy"
   ]
  },
  {
   "cell_type": "markdown",
   "metadata": {},
   "source": [
    "As explained way up at the top, we need to reduce medical appointment no-show rates to improve patient health, provider productivity, and free up provider resources. To do this, we need to understand the reasons behind no-shows to allow for a targeted approach. In this analysis, we found support for the hypotheses that \n",
    "    - 1. no-show rates increase the longer patients have to wait after scheduling\n",
    "    - 2. young children and the elderly have lower rates of no-shows\n",
    "    - 3. receipt of an SMS significantly decreases no-show rates (assuming the data was mislabeled as previously mentioned)\n",
    "    - 4. the likelihood a patient will miss an appointment is related to their number of other missed appointments \n",
    "    \n",
    "I also mentioned some ways this information could be used to influence policy. For example, we saw that no-show rates increased on friday, so perhaps young children and the elderly (more likely to show) could be prioritized for appointments on that day. Also, appointment reminders clearly have a significant impact on attendance, so we could try to send SMS reminders to the 1/3 of patients that were shown not to receive one. Finally, providers and other health workers could focus more on people with a past history of missed appointments, perhaps through specialized materials or personal reminders (the research article I linked on call reminders showed that personal staff calls reduced no-show rate 4% _more_ than automatic reminders).\n",
    "\n",
    "Thanks for reading my tutorial, and I hope you learned something new about either data science techniques or medical appointments!"
   ]
  },
  {
   "cell_type": "markdown",
   "metadata": {},
   "source": [
    "## Further Resources"
   ]
  },
  {
   "cell_type": "markdown",
   "metadata": {
    "collapsed": true
   },
   "source": [
    "Hopefully I posted enough links to material relevant to both medical no-show literature as well as useful data science techniques. However, if you still yearn for more knowledge, I have a couple of huge resources for you.\n",
    "\n",
    "[https://chrisalbon.com/](https://chrisalbon.com/) - I just found this website near the end of this tutorial after noticing that a lot of my google searches ended up being answered through a tutorial posted here. This website has everything you could want relating to data science (both introductory level and advanced level) - python tutorials (even data scraping, wrangling, and visualization specific ones), ML tutorials (literally every possible topic), relevant statistics useful for data science, SQL, and much much more. Everything is nicely indexed in a table of contents on the linked page. Take a look!\n",
    "\n",
    "[http://ciml.info/](http://ciml.info/) - This is a ML textbook written by a professor here at UMD, and is currently used as the CMSC422 textbook by multiple other professors. It covers ML techniques and concepts from both a theoretical and practical perspective. I will warn you though, ML theory involves quite a bit of linear algebra (which I was not prepared for). "
   ]
  }
 ],
 "metadata": {
  "kernelspec": {
   "display_name": "Python 3",
   "language": "python",
   "name": "python3"
  },
  "language_info": {
   "codemirror_mode": {
    "name": "ipython",
    "version": 3
   },
   "file_extension": ".py",
   "mimetype": "text/x-python",
   "name": "python",
   "nbconvert_exporter": "python",
   "pygments_lexer": "ipython3",
   "version": "3.6.2"
  }
 },
 "nbformat": 4,
 "nbformat_minor": 2
}
